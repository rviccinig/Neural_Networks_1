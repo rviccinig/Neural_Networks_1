{
 "cells": [
  {
   "cell_type": "markdown",
   "metadata": {},
   "source": [
    "# Transfer Learning"
   ]
  },
  {
   "cell_type": "code",
   "execution_count": 2,
   "metadata": {},
   "outputs": [],
   "source": [
    "# Solve Real ML Problems with limited resources! Applying existing trained ML model to a new but related problem"
   ]
  },
  {
   "cell_type": "code",
   "execution_count": 3,
   "metadata": {},
   "outputs": [],
   "source": [
    "import torch\n",
    "import torch.nn as nn\n",
    "import torch.optim as optim\n",
    "import torchvision\n",
    "from torchvision import models, transforms"
   ]
  },
  {
   "cell_type": "code",
   "execution_count": 4,
   "metadata": {},
   "outputs": [],
   "source": [
    "#Defining Batch size:\n",
    "batch_size = 50"
   ]
  },
  {
   "cell_type": "code",
   "execution_count": 5,
   "metadata": {},
   "outputs": [],
   "source": [
    "# Transforming the training data. because Cifar 10 data is 32x32 we need to resize it to 224x224 for imageNET\n",
    "# We use mean and staandard deviation of the original data set because that is what the network expects\n",
    "\n",
    "train_data_transform = transforms.Compose([\n",
    "                                            transforms.Resize(224),\n",
    "                                            transforms.RandomHorizontalFlip(),\n",
    "                                            transforms.RandomVerticalFlip(),\n",
    "                                            transforms.ToTensor(),\n",
    "                                            transforms.Normalize([0.485, 0.456, 0.406], [0.229, 0.224,0.225])\n",
    "                                            ])"
   ]
  },
  {
   "cell_type": "code",
   "execution_count": 6,
   "metadata": {},
   "outputs": [
    {
     "name": "stdout",
     "output_type": "stream",
     "text": [
      "Downloading https://www.cs.toronto.edu/~kriz/cifar-10-python.tar.gz to ./data/cifar-10-python.tar.gz\n"
     ]
    },
    {
     "name": "stderr",
     "output_type": "stream",
     "text": [
      "100.0%"
     ]
    },
    {
     "name": "stdout",
     "output_type": "stream",
     "text": [
      "Extracting ./data/cifar-10-python.tar.gz to ./data\n"
     ]
    }
   ],
   "source": [
    "#Downloading the training set, that is why train=True\n",
    "train_set = torchvision.datasets.CIFAR10(root='./data',train=True,download=True,transform=train_data_transform)"
   ]
  },
  {
   "cell_type": "code",
   "execution_count": 8,
   "metadata": {},
   "outputs": [],
   "source": [
    "#shuffle the training set\n",
    "train_loader = torch.utils.data.DataLoader(train_set,batch_size=batch_size,shuffle=True,num_workers=2)"
   ]
  },
  {
   "cell_type": "code",
   "execution_count": 9,
   "metadata": {},
   "outputs": [
    {
     "name": "stdout",
     "output_type": "stream",
     "text": [
      "Files already downloaded and verified\n"
     ]
    }
   ],
   "source": [
    "#sAME STEPS WITH THE TESTING SET\n",
    "val_data_transform = transforms.Compose([\n",
    "                                        transforms.Resize(224),\n",
    "                                        transforms.ToTensor(),\n",
    "                                        transforms.Normalize([0.485, 0.456, 0.406], [0.229, 0.224,0.225])\n",
    "                                        ])\n",
    "#This downloads the dataset and transforms it.\n",
    "val_set = torchvision.datasets.CIFAR10(root='./data',train=False,download=True,transform=val_data_transform)\n",
    "val_order = torch.utils.data.DataLoader(val_set,batch_size=batch_size,shuffle=False,num_workers=2)"
   ]
  },
  {
   "cell_type": "code",
   "execution_count": 11,
   "metadata": {},
   "outputs": [],
   "source": [
    "#Choose GPU or else the CPU\n",
    "device = torch.device(\"cuda:0\" if torch.cuda.is_available() else \"cpu\")"
   ]
  },
  {
   "cell_type": "code",
   "execution_count": 12,
   "metadata": {},
   "outputs": [
    {
     "data": {
      "text/plain": [
       "device(type='cuda', index=0)"
      ]
     },
     "execution_count": 12,
     "metadata": {},
     "output_type": "execute_result"
    }
   ],
   "source": [
    "#In Pytorch we have to iterate of the data manually and applies the model manually after each forward pass"
   ]
  },
  {
   "cell_type": "code",
   "execution_count": 16,
   "metadata": {},
   "outputs": [],
   "source": [
    "def train_model(model, loss_function, optimizer, data_loader):\n",
    "    model.train()\n",
    "    current_loss=0.0\n",
    "    current_acc=0\n",
    "    #iterate ofver the training data\n",
    "    for i,(inputs, labels) in enumerate(data_loader):\n",
    "        inputs=inputs.to(device)\n",
    "        labels=labels.to(device)\n",
    "        #Set gradient to 0\n",
    "        optimizer.zero_grad()\n",
    "        with torch.set_grad_enabled(True):\n",
    "            #forward (y predicted)\n",
    "            outputs=model(inputs)\n",
    "            # Selects the output with the largest probability\n",
    "            _, predictions=torch.max(outputs,1)\n",
    "            #Calculates the loss for that particular image between the label and the prediction\n",
    "            loss = loss_function(outputs, labels)\n",
    "            # backward, calculate the gradient\n",
    "            loss.backward()\n",
    "            #Update the weigths\n",
    "            optimizer.step()\n",
    "        # statistics\n",
    "        current_loss += loss.item() * inputs.size(0)\n",
    "        current_acc += torch.sum(predictions == labels.data)\n",
    "    total_loss = current_loss / len(data_loader.dataset)\n",
    "    total_acc = current_acc.double() / len(data_loader.dataset)\n",
    "    print('Train Loss: {:.4f}; Accuracy: {:.4f}'.format(total_loss,total_acc))   \n",
    "    "
   ]
  },
  {
   "cell_type": "code",
   "execution_count": 17,
   "metadata": {},
   "outputs": [],
   "source": [
    "def test_model(model, loss_function, data_loader):\n",
    "    # set model in evaluation mode\n",
    "    model.eval()\n",
    "    current_loss = 0.0\n",
    "    current_acc = 0\n",
    "    # iterate over the validation data\n",
    "    for i, (inputs, labels) in enumerate(data_loader):\n",
    "    # send the input/labels to the GPU\n",
    "        inputs = inputs.to(device)\n",
    "        labels = labels.to(device)\n",
    "    # forward\n",
    "        with torch.set_grad_enabled(False):\n",
    "            outputs = model(inputs)\n",
    "            _, predictions = torch.max(outputs, 1)\n",
    "            loss = loss_function(outputs, labels)\n",
    "        # statistics\n",
    "        current_loss += loss.item() * inputs.size(0)\n",
    "        current_acc += torch.sum(predictions == labels.data)\n",
    "    total_loss = current_loss / len(data_loader.dataset)\n",
    "    total_acc = current_acc.double() / len(data_loader.dataset)\n",
    "    print('Test Loss: {:.4f}; Accuracy: {:.4f}'.format(total_loss,total_acc))"
   ]
  },
  {
   "cell_type": "code",
   "execution_count": 18,
   "metadata": {},
   "outputs": [],
   "source": [
    "def tl_feature_extractor(epochs=3):\n",
    "    # load the pre-trained model\n",
    "    model = torchvision.models.resnet18(pretrained=True)\n",
    "    # exclude existing parameters from backward pass\n",
    "    # for performance\n",
    "    for param in model.parameters():\n",
    "        param.requires_grad = False\n",
    "    # newly constructed layers have requires_grad=True by default\n",
    "    num_features = model.fc.in_features\n",
    "    model.fc = nn.Linear(num_features, 10)\n",
    "    # transfer to GPU (if available)\n",
    "    model = model.to(device)\n",
    "    loss_function = nn.CrossEntropyLoss()\n",
    "    # only parameters of the final layer are being optimized\n",
    "    optimizer = optim.Adam(model.fc.parameters())\n",
    "    # train\n",
    "    for epoch in range(epochs):\n",
    "        print('Epoch {}/{}'.format(epoch + 1, epochs))\n",
    "        train_model(model, loss_function, optimizer, train_loader)\n",
    "        test_model(model, loss_function, val_order)"
   ]
  },
  {
   "cell_type": "code",
   "execution_count": 19,
   "metadata": {},
   "outputs": [],
   "source": [
    "def tl_fine_tuning(epochs=3):\n",
    "    # load the pre-trained model\n",
    "    model = models.resnet18(pretrained=True)\n",
    "    # replace the last layer\n",
    "    num_features = model.fc.in_features\n",
    "    model.fc = nn.Linear(num_features, 10)\n",
    "    # transfer the model to the GPU\n",
    "    model = model.to(device)\n",
    "    # loss function\n",
    "    loss_function = nn.CrossEntropyLoss()\n",
    "    # We'll optimize all parameters\n",
    "    optimizer = optim.Adam(model.parameters())\n",
    "    # train\n",
    "    for epoch in range(epochs):\n",
    "        print('Epoch {}/{}'.format(epoch + 1, epochs))\n",
    "        train_model(model, loss_function, optimizer, train_loader)\n",
    "        test_model(model, loss_function, val_order)"
   ]
  },
  {
   "cell_type": "code",
   "execution_count": 20,
   "metadata": {},
   "outputs": [
    {
     "name": "stderr",
     "output_type": "stream",
     "text": [
      "Downloading: \"https://download.pytorch.org/models/resnet18-5c106cde.pth\" to /home/rviccinig/.cache/torch/hub/checkpoints/resnet18-5c106cde.pth\n",
      "52.5%IOPub message rate exceeded.\n",
      "The notebook server will temporarily stop sending output\n",
      "to the client in order to avoid crashing it.\n",
      "To change this limit, set the config variable\n",
      "`--NotebookApp.iopub_msg_rate_limit`.\n",
      "\n",
      "Current values:\n",
      "NotebookApp.iopub_msg_rate_limit=1000.0 (msgs/sec)\n",
      "NotebookApp.rate_limit_window=3.0 (secs)\n",
      "\n",
      "100.0%\n"
     ]
    },
    {
     "name": "stdout",
     "output_type": "stream",
     "text": [
      "Epoch 1/5\n",
      "Train Loss: 0.8051; Accuracy: 0.7165\n",
      "Test Loss: 0.8161; Accuracy: 0.7127\n",
      "Epoch 2/5\n",
      "Train Loss: 0.5263; Accuracy: 0.8196\n",
      "Test Loss: 0.4817; Accuracy: 0.8355\n",
      "Epoch 3/5\n",
      "Train Loss: 0.4263; Accuracy: 0.8526\n",
      "Test Loss: 0.4257; Accuracy: 0.8535\n",
      "Epoch 4/5\n",
      "Train Loss: 0.3636; Accuracy: 0.8764\n",
      "Test Loss: 0.4307; Accuracy: 0.8550\n",
      "Epoch 5/5\n",
      "Train Loss: 0.3207; Accuracy: 0.8891\n",
      "Test Loss: 0.3833; Accuracy: 0.8725\n"
     ]
    }
   ],
   "source": [
    "tl_fine_tuning(epochs=5)"
   ]
  },
  {
   "cell_type": "code",
   "execution_count": null,
   "metadata": {},
   "outputs": [],
   "source": []
  }
 ],
 "metadata": {
  "kernelspec": {
   "display_name": "Python 3",
   "language": "python",
   "name": "python3"
  },
  "language_info": {
   "codemirror_mode": {
    "name": "ipython",
    "version": 3
   },
   "file_extension": ".py",
   "mimetype": "text/x-python",
   "name": "python",
   "nbconvert_exporter": "python",
   "pygments_lexer": "ipython3",
   "version": "3.8.3"
  }
 },
 "nbformat": 4,
 "nbformat_minor": 4
}
